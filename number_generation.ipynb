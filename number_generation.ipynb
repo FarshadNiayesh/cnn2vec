{
 "cells": [
  {
   "cell_type": "code",
   "execution_count": 1,
   "metadata": {},
   "outputs": [],
   "source": [
    "import random\n",
    "import os"
   ]
  },
  {
   "cell_type": "code",
   "execution_count": 2,
   "metadata": {},
   "outputs": [],
   "source": [
    "def human_format(num):\n",
    "    num = float('{:.3g}'.format(num))\n",
    "    magnitude = 0\n",
    "    while abs(num) >= 1000:\n",
    "        magnitude += 1\n",
    "        num /= 1000.0\n",
    "    return '{}{}'.format('{:f}'.format(num).rstrip('0').rstrip('.'), ['', 'K', 'M', 'B', 'T'][magnitude])\n",
    "\n",
    "\n",
    "def format_number(num):\n",
    "    dec = random.randint(0,3)\n",
    "    sep = \",\" if random.uniform(0,1) < 0.5 else \"\"\n",
    "    templ = \"{sep}.{dec}f\".format(sep=sep, dec=dec)\n",
    "    choose = random.uniform(0,1)\n",
    "    if choose < 0.05:\n",
    "        to_return = human_format(num)\n",
    "    elif choose < 0.1:\n",
    "        to_return = format(num, templ).replace(',', '_').replace('.', ',').replace('_', '.')\n",
    "    elif choose < 0.15:\n",
    "        if num < 0:\n",
    "            to_return = format(num, templ).replace('-', '-0')\n",
    "        else:\n",
    "            to_return = \"0\"+format(num, templ)\n",
    "    else:\n",
    "        to_return = format(num, templ)\n",
    "    return to_return"
   ]
  },
  {
   "cell_type": "code",
   "execution_count": 5,
   "metadata": {},
   "outputs": [
    {
     "name": "stdout",
     "output_type": "stream",
     "text": [
      "New file 4000000 !\r"
     ]
    }
   ],
   "source": [
    "number = -10e6\n",
    "max_num_per_file = 100000/4\n",
    "counter = 1\n",
    "filenamebase = os.path.join(os.getcwd(), 'corpus', 'numbers_{}.txt')\n",
    "filename = filenamebase.format(str(counter))\n",
    "file = open(filename, 'w+')\n",
    "while number < 10e6:\n",
    "    if counter % max_num_per_file == 0:\n",
    "        print('New file {} !'.format(counter), end=\"\\r\")\n",
    "        filename = filenamebase.format(str(counter))\n",
    "        file = open(filename, 'w+')\n",
    "    file.write(format_number(number)+\" \")\n",
    "    number += random.uniform(0,10)\n",
    "    counter += 1\n",
    "file.close()"
   ]
  },
  {
   "cell_type": "code",
   "execution_count": null,
   "metadata": {},
   "outputs": [],
   "source": []
  }
 ],
 "metadata": {
  "kernelspec": {
   "display_name": "Python 3",
   "language": "python",
   "name": "python3"
  },
  "language_info": {
   "codemirror_mode": {
    "name": "ipython",
    "version": 3
   },
   "file_extension": ".py",
   "mimetype": "text/x-python",
   "name": "python",
   "nbconvert_exporter": "python",
   "pygments_lexer": "ipython3",
   "version": "3.6.3"
  }
 },
 "nbformat": 4,
 "nbformat_minor": 2
}
